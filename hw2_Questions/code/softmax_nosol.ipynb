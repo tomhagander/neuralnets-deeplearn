{
 "cells": [
  {
   "cell_type": "markdown",
   "metadata": {},
   "source": [
    "## This is the softmax workbook for ECE C147/C247 Assignment #2\n",
    "\n",
    "Please follow the notebook linearly to implement a softmax classifier.\n",
    "\n",
    "Please print out the workbook entirely when completed.\n",
    "\n",
    "The goal of this workbook is to give you experience with training a softmax classifier."
   ]
  },
  {
   "cell_type": "code",
   "execution_count": 57,
   "metadata": {},
   "outputs": [
    {
     "name": "stdout",
     "output_type": "stream",
     "text": [
      "The autoreload extension is already loaded. To reload it, use:\n",
      "  %reload_ext autoreload\n"
     ]
    }
   ],
   "source": [
    "import random\n",
    "import numpy as np\n",
    "from utils.data_utils import load_CIFAR10\n",
    "import matplotlib.pyplot as plt\n",
    "\n",
    "%matplotlib inline\n",
    "%load_ext autoreload\n",
    "%autoreload 2"
   ]
  },
  {
   "cell_type": "code",
   "execution_count": 58,
   "metadata": {
    "scrolled": true
   },
   "outputs": [
    {
     "name": "stdout",
     "output_type": "stream",
     "text": [
      "Train data shape:  (49000, 3073)\n",
      "Train labels shape:  (49000,)\n",
      "Validation data shape:  (1000, 3073)\n",
      "Validation labels shape:  (1000,)\n",
      "Test data shape:  (1000, 3073)\n",
      "Test labels shape:  (1000,)\n",
      "dev data shape:  (500, 3073)\n",
      "dev labels shape:  (500,)\n"
     ]
    }
   ],
   "source": [
    "def get_CIFAR10_data(num_training=49000, num_validation=1000, num_test=1000, num_dev=500):\n",
    "    \"\"\"\n",
    "    Load the CIFAR-10 dataset from disk and perform preprocessing to prepare\n",
    "    it for the linear classifier. These are the same steps as we used for the\n",
    "    SVM, but condensed to a single function.  \n",
    "    \"\"\"\n",
    "    # Load the raw CIFAR-10 data\n",
    "    cifar10_dir = '/Users/tomhagander/Documents/Neural_Networks_and_Deep_Learning/hw2_Questions/code/cifar-10-batches-py' # You need to update this line\n",
    "    X_train, y_train, X_test, y_test = load_CIFAR10(cifar10_dir)\n",
    "    \n",
    "    # subsample the data\n",
    "    mask = list(range(num_training, num_training + num_validation))\n",
    "    X_val = X_train[mask]\n",
    "    y_val = y_train[mask]\n",
    "    mask = list(range(num_training))\n",
    "    X_train = X_train[mask]\n",
    "    y_train = y_train[mask]\n",
    "    mask = list(range(num_test))\n",
    "    X_test = X_test[mask]\n",
    "    y_test = y_test[mask]\n",
    "    mask = np.random.choice(num_training, num_dev, replace=False)\n",
    "    X_dev = X_train[mask]\n",
    "    y_dev = y_train[mask]\n",
    "    \n",
    "    # Preprocessing: reshape the image data into rows\n",
    "    X_train = np.reshape(X_train, (X_train.shape[0], -1))\n",
    "    X_val = np.reshape(X_val, (X_val.shape[0], -1))\n",
    "    X_test = np.reshape(X_test, (X_test.shape[0], -1))\n",
    "    X_dev = np.reshape(X_dev, (X_dev.shape[0], -1))\n",
    "    \n",
    "    # Normalize the data: subtract the mean image\n",
    "    mean_image = np.mean(X_train, axis = 0)\n",
    "    X_train -= mean_image\n",
    "    X_val -= mean_image\n",
    "    X_test -= mean_image\n",
    "    X_dev -= mean_image\n",
    "    \n",
    "    # add bias dimension and transform into columns\n",
    "    X_train = np.hstack([X_train, np.ones((X_train.shape[0], 1))])\n",
    "    X_val = np.hstack([X_val, np.ones((X_val.shape[0], 1))])\n",
    "    X_test = np.hstack([X_test, np.ones((X_test.shape[0], 1))])\n",
    "    X_dev = np.hstack([X_dev, np.ones((X_dev.shape[0], 1))])\n",
    "    \n",
    "    return X_train, y_train, X_val, y_val, X_test, y_test, X_dev, y_dev\n",
    "\n",
    "\n",
    "# Invoke the above function to get our data.\n",
    "X_train, y_train, X_val, y_val, X_test, y_test, X_dev, y_dev = get_CIFAR10_data()\n",
    "print('Train data shape: ', X_train.shape)\n",
    "print('Train labels shape: ', y_train.shape)\n",
    "print('Validation data shape: ', X_val.shape)\n",
    "print('Validation labels shape: ', y_val.shape)\n",
    "print('Test data shape: ', X_test.shape)\n",
    "print('Test labels shape: ', y_test.shape)\n",
    "print('dev data shape: ', X_dev.shape)\n",
    "print('dev labels shape: ', y_dev.shape)"
   ]
  },
  {
   "cell_type": "markdown",
   "metadata": {},
   "source": [
    "## Training a softmax classifier.\n",
    "\n",
    "The following cells will take you through building a softmax classifier.  You will implement its loss function, then subsequently train it with gradient descent.  Finally, you will choose the learning rate of gradient descent to optimize its classification performance."
   ]
  },
  {
   "cell_type": "code",
   "execution_count": 59,
   "metadata": {},
   "outputs": [],
   "source": [
    "from nndl import Softmax"
   ]
  },
  {
   "cell_type": "code",
   "execution_count": 60,
   "metadata": {},
   "outputs": [],
   "source": [
    "# Declare an instance of the Softmax class.  \n",
    "# Weights are initialized to a random value.\n",
    "# Note, to keep people's first solutions consistent, we are going to use a random seed.\n",
    "\n",
    "np.random.seed(1)\n",
    "\n",
    "num_classes = len(np.unique(y_train))\n",
    "num_features = X_train.shape[1]\n",
    "\n",
    "softmax = Softmax(dims=[num_classes, num_features])"
   ]
  },
  {
   "cell_type": "markdown",
   "metadata": {},
   "source": [
    "#### Softmax loss"
   ]
  },
  {
   "cell_type": "code",
   "execution_count": 61,
   "metadata": {},
   "outputs": [],
   "source": [
    "## Implement the loss function of the softmax using a for loop over\n",
    "#  the number of examples\n",
    "\n",
    "loss = softmax.loss(X_train, y_train)"
   ]
  },
  {
   "cell_type": "code",
   "execution_count": 62,
   "metadata": {},
   "outputs": [
    {
     "name": "stdout",
     "output_type": "stream",
     "text": [
      "2.327760702804897\n"
     ]
    }
   ],
   "source": [
    "print(loss)"
   ]
  },
  {
   "cell_type": "markdown",
   "metadata": {},
   "source": [
    "## Question: \n",
    "\n",
    "You'll notice the loss returned by the softmax is about 2.3 (if implemented correctly).  Why does this make sense?"
   ]
  },
  {
   "cell_type": "markdown",
   "metadata": {},
   "source": [
    "## Answer:\n",
    "\n",
    "We are taking the negative of a sum of logarithms of numbers between zero and one, which is the same as the negative of a sum of negative numbers, which is positive. "
   ]
  },
  {
   "cell_type": "markdown",
   "metadata": {},
   "source": [
    "#### Softmax gradient"
   ]
  },
  {
   "cell_type": "code",
   "execution_count": 63,
   "metadata": {
    "scrolled": false
   },
   "outputs": [
    {
     "name": "stdout",
     "output_type": "stream",
     "text": [
      "numerical: -1.909119 analytic: -1.909119, relative error: 3.071826e-09\n",
      "numerical: 1.771418 analytic: 1.771418, relative error: 1.385187e-08\n",
      "numerical: 2.009162 analytic: 2.009162, relative error: 7.222001e-12\n",
      "numerical: 1.965140 analytic: 1.965140, relative error: 1.944457e-08\n",
      "numerical: 1.413197 analytic: 1.413197, relative error: 5.453079e-08\n",
      "numerical: 1.767842 analytic: 1.767842, relative error: 1.100799e-08\n",
      "numerical: -1.151091 analytic: -1.151091, relative error: 3.563758e-08\n",
      "numerical: -0.742485 analytic: -0.742485, relative error: 2.571217e-08\n",
      "numerical: 0.529290 analytic: 0.529290, relative error: 2.547334e-08\n",
      "numerical: -1.790853 analytic: -1.790853, relative error: 3.333724e-08\n"
     ]
    }
   ],
   "source": [
    "## Calculate the gradient of the softmax loss in the Softmax class.\n",
    "# For convenience, we'll write one function that computes the loss\n",
    "#   and gradient together, softmax.loss_and_grad(X, y)\n",
    "# You may copy and paste your loss code from softmax.loss() here, and then\n",
    "#   use the appropriate intermediate values to calculate the gradient.\n",
    "\n",
    "loss, grad = softmax.loss_and_grad(X_dev,y_dev)\n",
    "\n",
    "# Compare your gradient to a gradient check we wrote. \n",
    "# You should see relative gradient errors on the order of 1e-07 or less if you implemented the gradient correctly.\n",
    "softmax.grad_check_sparse(X_dev, y_dev, grad)"
   ]
  },
  {
   "cell_type": "markdown",
   "metadata": {},
   "source": [
    "## A vectorized version of Softmax\n",
    "\n",
    "To speed things up, we will vectorize the loss and gradient calculations.  This will be helpful for stochastic gradient descent."
   ]
  },
  {
   "cell_type": "code",
   "execution_count": 64,
   "metadata": {},
   "outputs": [],
   "source": [
    "import time"
   ]
  },
  {
   "cell_type": "code",
   "execution_count": 65,
   "metadata": {},
   "outputs": [
    {
     "name": "stdout",
     "output_type": "stream",
     "text": [
      "Normal loss / grad_norm: 2.3181612083081347 / 310.33224933553925 computed in 0.2734191417694092s\n",
      "Vectorized loss / grad: 2.7603763799531524 / 310.33224933553925 computed in 0.012276887893676758s\n",
      "difference in loss / grad: -0.4422151716450178 /2.8385082728302326e-13 \n"
     ]
    }
   ],
   "source": [
    "## Implement softmax.fast_loss_and_grad which calculates the loss and gradient\n",
    "#    WITHOUT using any for loops.  \n",
    "\n",
    "# Standard loss and gradient\n",
    "tic = time.time()\n",
    "loss, grad = softmax.loss_and_grad(X_dev, y_dev)\n",
    "toc = time.time()\n",
    "print('Normal loss / grad_norm: {} / {} computed in {}s'.format(loss, np.linalg.norm(grad, 'fro'), toc - tic))\n",
    "\n",
    "tic = time.time()\n",
    "loss_vectorized, grad_vectorized = softmax.fast_loss_and_grad(X_dev, y_dev)\n",
    "toc = time.time()\n",
    "print('Vectorized loss / grad: {} / {} computed in {}s'.format(loss_vectorized, np.linalg.norm(grad_vectorized, 'fro'), toc - tic))\n",
    "\n",
    "# The losses should match but your vectorized implementation should be much faster.\n",
    "print('difference in loss / grad: {} /{} '.format(loss - loss_vectorized, np.linalg.norm(grad - grad_vectorized)))\n",
    "\n",
    "# You should notice a speedup with the same output."
   ]
  },
  {
   "cell_type": "markdown",
   "metadata": {},
   "source": [
    "## Stochastic gradient descent\n",
    "\n",
    "We now implement stochastic gradient descent.  This uses the same principles of gradient descent we discussed in class, however, it calculates the gradient by only using examples from a subset of the training set (so each gradient calculation is faster)."
   ]
  },
  {
   "cell_type": "code",
   "execution_count": 66,
   "metadata": {
    "scrolled": false
   },
   "outputs": [
    {
     "name": "stdout",
     "output_type": "stream",
     "text": [
      "iteration 0 / 1500: loss 1.823550013919184\n",
      "iteration 100 / 1500: loss 2.0485088390772725\n",
      "iteration 200 / 1500: loss 2.2070597788160824\n",
      "iteration 300 / 1500: loss 2.82907535387603\n",
      "iteration 400 / 1500: loss 2.606661690987591\n",
      "iteration 500 / 1500: loss 2.6554208467299607\n",
      "iteration 600 / 1500: loss 2.893889544132694\n",
      "iteration 700 / 1500: loss 2.646488564574948\n",
      "iteration 800 / 1500: loss 2.993724946157931\n",
      "iteration 900 / 1500: loss 2.720972342269317\n",
      "iteration 1000 / 1500: loss 2.453724687103486\n",
      "iteration 1100 / 1500: loss 2.943478219220359\n",
      "iteration 1200 / 1500: loss 3.016064401210533\n",
      "iteration 1300 / 1500: loss 3.0796709219103042\n",
      "iteration 1400 / 1500: loss 2.623895719555175\n",
      "That took 5.373991012573242s\n"
     ]
    },
    {
     "data": {
      "image/png": "[encoded data removed]",
      "text/plain": [
       "<Figure size 432x288 with 1 Axes>"
      ]
     },
     "metadata": {
      "needs_background": "light"
     },
     "output_type": "display_data"
    }
   ],
   "source": [
    "# Implement softmax.train() by filling in the code to extract a batch of data\n",
    "# and perform the gradient step.\n",
    "import time\n",
    "\n",
    "\n",
    "tic = time.time()\n",
    "loss_hist = softmax.train(X_train, y_train, learning_rate=1e-7,\n",
    "                      num_iters=1500, verbose=True)\n",
    "toc = time.time()\n",
    "print('That took {}s'.format(toc - tic))\n",
    "\n",
    "plt.plot(loss_hist)\n",
    "plt.xlabel('Iteration number')\n",
    "plt.ylabel('Loss value')\n",
    "plt.show()"
   ]
  },
  {
   "cell_type": "markdown",
   "metadata": {},
   "source": [
    "### Evaluate the performance of the trained softmax classifier on the validation data."
   ]
  },
  {
   "cell_type": "code",
   "execution_count": 71,
   "metadata": {},
   "outputs": [
    {
     "name": "stdout",
     "output_type": "stream",
     "text": [
      "training accuracy: 0.3811428571428571\n",
      "validation accuracy: 0.398\n"
     ]
    }
   ],
   "source": [
    "## Implement softmax.predict() and use it to compute the training and testing error.\n",
    "\n",
    "y_train_pred = softmax.predict(X_train)\n",
    "print('training accuracy: {}'.format(np.mean(np.equal(y_train,y_train_pred), )))\n",
    "y_val_pred = softmax.predict(X_val)\n",
    "print('validation accuracy: {}'.format(np.mean(np.equal(y_val, y_val_pred)), ))"
   ]
  },
  {
   "cell_type": "markdown",
   "metadata": {},
   "source": [
    "## Optimize the softmax classifier"
   ]
  },
  {
   "cell_type": "code",
   "execution_count": 72,
   "metadata": {},
   "outputs": [
    {
     "data": {
      "text/plain": [
       "2.220446049250313e-16"
      ]
     },
     "execution_count": 72,
     "metadata": {},
     "output_type": "execute_result"
    }
   ],
   "source": [
    "np.finfo(float).eps"
   ]
  },
  {
   "cell_type": "code",
   "execution_count": 89,
   "metadata": {
    "scrolled": false
   },
   "outputs": [
    {
     "name": "stdout",
     "output_type": "stream",
     "text": [
      "iteration 0 / 1500: loss 2.3204129810902283\n",
      "iteration 100 / 1500: loss 2.0342827032319812\n",
      "iteration 200 / 1500: loss 2.5229470385436477\n",
      "iteration 300 / 1500: loss 1.8593334192026911\n",
      "iteration 400 / 1500: loss 2.9695426053083045\n",
      "iteration 500 / 1500: loss 2.13123875166756\n",
      "iteration 600 / 1500: loss 2.8437077230701133\n",
      "iteration 700 / 1500: loss 2.4055026175166003\n",
      "iteration 800 / 1500: loss 2.087800711713956\n",
      "iteration 900 / 1500: loss 2.4481926137481183\n",
      "iteration 1000 / 1500: loss 2.353751361417186\n",
      "iteration 1100 / 1500: loss 2.66558896884974\n",
      "iteration 1200 / 1500: loss 2.617627150392478\n",
      "iteration 1300 / 1500: loss 2.613200758759913\n",
      "iteration 1400 / 1500: loss 2.2506135702421424\n",
      "iteration 0 / 1500: loss 2.814262711486462\n",
      "iteration 100 / 1500: loss 2.3925088657720552\n",
      "iteration 200 / 1500: loss 2.456700540052833\n",
      "iteration 300 / 1500: loss 2.5462770117224367\n",
      "iteration 400 / 1500: loss 2.5724220072010238\n",
      "iteration 500 / 1500: loss 2.7621885394391494\n",
      "iteration 600 / 1500: loss 2.108479987888275\n",
      "iteration 700 / 1500: loss 2.425569561083681\n",
      "iteration 800 / 1500: loss 2.8726089961158103\n",
      "iteration 900 / 1500: loss 2.8339409191811225\n",
      "iteration 1000 / 1500: loss 2.5402753941168124\n",
      "iteration 1100 / 1500: loss 2.3328904519772564\n",
      "iteration 1200 / 1500: loss 2.6237605404375732\n",
      "iteration 1300 / 1500: loss 2.60813687018175\n",
      "iteration 1400 / 1500: loss 2.59450369555502\n",
      "iteration 0 / 1500: loss 2.2893801994282064\n",
      "iteration 100 / 1500: loss 2.548042743578589\n",
      "iteration 200 / 1500: loss 3.4053505681395353\n",
      "iteration 300 / 1500: loss 2.811110744438133\n",
      "iteration 400 / 1500: loss 2.0793573228130198\n",
      "iteration 500 / 1500: loss 2.612291571729979\n",
      "iteration 600 / 1500: loss 3.180318596256185\n",
      "iteration 700 / 1500: loss 2.9890971427083635\n",
      "iteration 800 / 1500: loss 3.1824099322933894\n",
      "iteration 900 / 1500: loss 3.125108623989142\n",
      "iteration 1000 / 1500: loss 2.8610511258216156\n",
      "iteration 1100 / 1500: loss 2.7309925862144633\n",
      "iteration 1200 / 1500: loss 3.2587054813376457\n",
      "iteration 1300 / 1500: loss 3.4517962421742463\n",
      "iteration 1400 / 1500: loss 3.390643149588554\n",
      "iteration 0 / 1500: loss 2.719924793705999\n",
      "iteration 100 / 1500: loss 2.214474489340166\n",
      "iteration 200 / 1500: loss 3.095237348139449\n",
      "iteration 300 / 1500: loss 3.139844966728921\n",
      "iteration 400 / 1500: loss 2.9501144876301684\n",
      "iteration 500 / 1500: loss 2.747553423963388\n",
      "iteration 600 / 1500: loss 2.816599354319896\n",
      "iteration 700 / 1500: loss 2.753251502768509\n",
      "iteration 800 / 1500: loss 2.898272303460804\n",
      "iteration 900 / 1500: loss 2.946347596088738\n",
      "iteration 1000 / 1500: loss 2.942165196028743\n",
      "iteration 1100 / 1500: loss 2.8373789326269057\n",
      "iteration 1200 / 1500: loss 3.732034637471481\n",
      "iteration 1300 / 1500: loss 2.7885483513154963\n",
      "iteration 1400 / 1500: loss 2.7425324605542007\n",
      "iteration 0 / 1500: loss 2.6146182180115414\n",
      "iteration 100 / 1500: loss 2.7852606828485253\n",
      "iteration 200 / 1500: loss 2.9537940948903922\n",
      "iteration 300 / 1500: loss 2.593720558132301\n",
      "iteration 400 / 1500: loss 2.8342937013291447\n",
      "iteration 500 / 1500: loss 3.0162863998775933\n",
      "iteration 600 / 1500: loss 3.731423645871394\n",
      "iteration 700 / 1500: loss 3.3876039523999544\n",
      "iteration 800 / 1500: loss 2.885601164088517\n",
      "iteration 900 / 1500: loss 2.801902404917531\n",
      "iteration 1000 / 1500: loss 2.8757571445139227\n",
      "iteration 1100 / 1500: loss 2.635244839705358\n",
      "iteration 1200 / 1500: loss 2.9158559727943207\n",
      "iteration 1300 / 1500: loss 2.8753669084873277\n",
      "iteration 1400 / 1500: loss 3.414166936248734\n",
      "iteration 0 / 1500: loss 2.589250293627886\n",
      "iteration 100 / 1500: loss 3.402556364315899\n",
      "iteration 200 / 1500: loss 3.3083693714895337\n",
      "iteration 300 / 1500: loss 2.4163662016458582\n",
      "iteration 400 / 1500: loss 2.8644938623879437\n",
      "iteration 500 / 1500: loss 3.442585902859281\n",
      "iteration 600 / 1500: loss 3.0627414630933285\n",
      "iteration 700 / 1500: loss 3.434650034567538\n",
      "iteration 800 / 1500: loss 3.5592507398288102\n",
      "iteration 900 / 1500: loss 2.9209292323843576\n",
      "iteration 1000 / 1500: loss 3.6275359910616927\n",
      "iteration 1100 / 1500: loss 2.9084900807190066\n",
      "iteration 1200 / 1500: loss 3.253277858629065\n",
      "iteration 1300 / 1500: loss 3.284802255450331\n",
      "iteration 1400 / 1500: loss 3.3826309446761593\n",
      "iteration 0 / 1500: loss 2.458759045072946\n",
      "iteration 100 / 1500: loss 4.286037530377069\n",
      "iteration 200 / 1500: loss 5.003961538497287\n",
      "iteration 300 / 1500: loss 5.407259971339028\n",
      "iteration 400 / 1500: loss 4.760329784661706\n",
      "iteration 500 / 1500: loss 7.699959853806604\n",
      "iteration 600 / 1500: loss 4.810123605168501\n",
      "iteration 700 / 1500: loss 7.635810828164731\n",
      "iteration 800 / 1500: loss 4.5724308032178955\n",
      "iteration 900 / 1500: loss 5.094965819176671\n",
      "iteration 1000 / 1500: loss 5.162713955281941\n",
      "iteration 1100 / 1500: loss 5.1025470604789\n",
      "iteration 1200 / 1500: loss 4.137236746666572\n",
      "iteration 1300 / 1500: loss 6.63401733541325\n",
      "iteration 1400 / 1500: loss 4.515577521070895\n",
      "[0.368, 0.396, 0.407, 0.412, 0.396, 0.375, 0.348]\n",
      "Test accuracy: 0.381\n"
     ]
    }
   ],
   "source": [
    "rates = 10**(np.arange(10, dtype=float) - 10)\n",
    "rates = 1e-7*np.array([0.5, 1, 5, 10, 20, 50, 100])\n",
    "classifiers = []\n",
    "val_accuracies = []\n",
    "num_classes = len(np.unique(y_train))\n",
    "num_features = X_train.shape[1]\n",
    "\n",
    "for rate in rates:\n",
    "    softmax = Softmax(dims=[num_classes, num_features])\n",
    "    classifiers.append(softmax)\n",
    "    loss_hist = softmax.train(X_train, y_train, learning_rate=rate,\n",
    "                      num_iters=1500, verbose=True)\n",
    "    y_val_pred = softmax.predict(X_val)\n",
    "    val_accuracies.append(np.mean(np.equal(y_val, y_val_pred)), )\n",
    "\n",
    "print(val_accuracies)\n",
    "max_index = val_accuracies.index(max(val_accuracies))\n",
    "best_clf = classifiers[max_index]\n",
    "y_test_pred = best_clf.predict(X_test)\n",
    "print('Test accuracy: {}'.format(np.mean(np.equal(y_test, y_test_pred)), ))\n",
    "\n"
   ]
  },
  {
   "cell_type": "code",
   "execution_count": 90,
   "metadata": {},
   "outputs": [
    {
     "data": {
      "image/png": "[encoded data removed]",
      "text/plain": [
       "<Figure size 432x288 with 1 Axes>"
      ]
     },
     "metadata": {
      "needs_background": "light"
     },
     "output_type": "display_data"
    }
   ],
   "source": [
    "plt.plot(rates, val_accuracies)\n",
    "plt.xscale('log')"
   ]
  },
  {
   "cell_type": "markdown",
   "metadata": {},
   "source": [
    "The best learning rate is 1e-6, which yields a validation accuracy of 0.412. The testing accuracy for this learning rate is 0.381"
   ]
  }
 ],
 "metadata": {
  "kernelspec": {
   "display_name": "Python 3 (ipykernel)",
   "language": "python",
   "name": "python3"
  },
  "language_info": {
   "codemirror_mode": {
    "name": "ipython",
    "version": 3
   },
   "file_extension": ".py",
   "mimetype": "text/x-python",
   "name": "python",
   "nbconvert_exporter": "python",
   "pygments_lexer": "ipython3",
   "version": "3.8.8"
  }
 },
 "nbformat": 4,
 "nbformat_minor": 2
}
